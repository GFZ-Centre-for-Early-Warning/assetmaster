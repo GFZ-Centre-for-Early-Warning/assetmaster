{
 "cells": [
  {
   "cell_type": "code",
   "execution_count": 1,
   "metadata": {},
   "outputs": [],
   "source": [
    "%load_ext autoreload\n",
    "%autoreload 2\n",
    "import warnings; warnings.filterwarnings(\"ignore\")\n",
    "import pandas as pd\n",
    "import geopandas as gpd\n",
    "%matplotlib inline\n",
    "import h5py\n",
    "import numpy as np\n",
    "import matplotlib.pyplot as plt\n",
    "from matplotlib.colors import LogNorm\n",
    "import os\n",
    "import folium"
   ]
  },
  {
   "cell_type": "markdown",
   "metadata": {},
   "source": [
    "## Read  CHILE GEM SARA Model (csv format)"
   ]
  },
  {
   "cell_type": "code",
   "execution_count": 3,
   "metadata": {},
   "outputs": [],
   "source": [
    "path = '/Users/pittore/Documents/PROJECTS/BMBF/RIESGOS/data/GEM_sara_chile/chl-l3-exposure'\n",
    "infile = 'chl-l3-exposure_total.csv'\n",
    "sara_data = pd.read_csv(os.path.join(path,infile))\n",
    "\n",
    "#clean 'name' and use it as ID\n",
    "sara_data['name'] = sara_data.Region.str.normalize('NFKD').str.encode('ascii', errors='ignore').str.decode('utf-8')\n",
    "#save all names in an array\n",
    "sara_names = sara_data['name'].unique()\n",
    "\n",
    "#group data based on 'name'\n",
    "datagrp = sara_data.groupby('name')"
   ]
  },
  {
   "cell_type": "markdown",
   "metadata": {},
   "source": [
    "## Read Chile admin_3 areas from GADM"
   ]
  },
  {
   "cell_type": "code",
   "execution_count": 4,
   "metadata": {},
   "outputs": [
    {
     "data": {
      "text/plain": [
       "302"
      ]
     },
     "execution_count": 4,
     "metadata": {},
     "output_type": "execute_result"
    }
   ],
   "source": [
    "chile_map = '/Users/pittore/Documents/PROJECTS/BMBF/RIESGOS/data/GADM_chile/gadm36_CHL_3.json'\n",
    "chile_map_gpd = gpd.read_file(chile_map)\n",
    "chile_map_gpd['name'] = chile_map_gpd.NAME_3.str.normalize('NFKD').str.encode('ascii', errors='ignore').str.decode('utf-8')\n",
    "len(chile_map_gpd)"
   ]
  },
  {
   "cell_type": "markdown",
   "metadata": {},
   "source": [
    "## Associate exposure model for each admin area and change geometry type to MultiPolygon"
   ]
  },
  {
   "cell_type": "code",
   "execution_count": 5,
   "metadata": {},
   "outputs": [
    {
     "data": {
      "text/html": [
       "<div>\n",
       "<style scoped>\n",
       "    .dataframe tbody tr th:only-of-type {\n",
       "        vertical-align: middle;\n",
       "    }\n",
       "\n",
       "    .dataframe tbody tr th {\n",
       "        vertical-align: top;\n",
       "    }\n",
       "\n",
       "    .dataframe thead th {\n",
       "        text-align: right;\n",
       "    }\n",
       "</style>\n",
       "<table border=\"1\" class=\"dataframe\">\n",
       "  <thead>\n",
       "    <tr style=\"text-align: right;\">\n",
       "      <th></th>\n",
       "      <th>name</th>\n",
       "      <th>gid</th>\n",
       "      <th>geometry</th>\n",
       "      <th>expo</th>\n",
       "    </tr>\n",
       "  </thead>\n",
       "  <tbody>\n",
       "    <tr>\n",
       "      <th>0</th>\n",
       "      <td>Aisen</td>\n",
       "      <td>CHL.1.1.1_1</td>\n",
       "      <td>(POLYGON ((-73.49375152587885 -44.965415954589...</td>\n",
       "      <td>{\"id\":{\"5709\":\"AREA # 11201\",\"5710\":\"AREA # 11...</td>\n",
       "    </tr>\n",
       "    <tr>\n",
       "      <th>1</th>\n",
       "      <td>Cisnes</td>\n",
       "      <td>CHL.1.1.2_1</td>\n",
       "      <td>(POLYGON ((-73.31124877929682 -45.111248016357...</td>\n",
       "      <td>{\"id\":{\"5729\":\"AREA # 11202\",\"5730\":\"AREA # 11...</td>\n",
       "    </tr>\n",
       "    <tr>\n",
       "      <th>2</th>\n",
       "      <td>Guaitecas</td>\n",
       "      <td>CHL.1.1.3_1</td>\n",
       "      <td>(POLYGON ((-73.49153137207031 -43.711528778076...</td>\n",
       "      <td>{\"id\":{\"5747\":\"AREA # 11203\",\"5748\":\"AREA # 11...</td>\n",
       "    </tr>\n",
       "    <tr>\n",
       "      <th>3</th>\n",
       "      <td>Cochrane</td>\n",
       "      <td>CHL.1.2.1_1</td>\n",
       "      <td>(POLYGON ((-72.42082214355469 -47.743259429931...</td>\n",
       "      <td>{\"id\":{\"5757\":\"AREA # 11301\",\"5758\":\"AREA # 11...</td>\n",
       "    </tr>\n",
       "    <tr>\n",
       "      <th>4</th>\n",
       "      <td>O'Higgins</td>\n",
       "      <td>CHL.1.2.2_1</td>\n",
       "      <td>(POLYGON ((-73.17006683349609 -49.224048614501...</td>\n",
       "      <td>{\"id\":{\"5775\":\"AREA # 11302\",\"5776\":\"AREA # 11...</td>\n",
       "    </tr>\n",
       "  </tbody>\n",
       "</table>\n",
       "</div>"
      ],
      "text/plain": [
       "        name          gid                                           geometry  \\\n",
       "0      Aisen  CHL.1.1.1_1  (POLYGON ((-73.49375152587885 -44.965415954589...   \n",
       "1     Cisnes  CHL.1.1.2_1  (POLYGON ((-73.31124877929682 -45.111248016357...   \n",
       "2  Guaitecas  CHL.1.1.3_1  (POLYGON ((-73.49153137207031 -43.711528778076...   \n",
       "3   Cochrane  CHL.1.2.1_1  (POLYGON ((-72.42082214355469 -47.743259429931...   \n",
       "4  O'Higgins  CHL.1.2.2_1  (POLYGON ((-73.17006683349609 -49.224048614501...   \n",
       "\n",
       "                                                expo  \n",
       "0  {\"id\":{\"5709\":\"AREA # 11201\",\"5710\":\"AREA # 11...  \n",
       "1  {\"id\":{\"5729\":\"AREA # 11202\",\"5730\":\"AREA # 11...  \n",
       "2  {\"id\":{\"5747\":\"AREA # 11203\",\"5748\":\"AREA # 11...  \n",
       "3  {\"id\":{\"5757\":\"AREA # 11301\",\"5758\":\"AREA # 11...  \n",
       "4  {\"id\":{\"5775\":\"AREA # 11302\",\"5776\":\"AREA # 11...  "
      ]
     },
     "execution_count": 5,
     "metadata": {},
     "output_type": "execute_result"
    }
   ],
   "source": [
    "from shapely.geometry import MultiPolygon\n",
    "\n",
    "outmodel = chile_map_gpd[['name','GID_3','geometry']]\n",
    "outmodel['expo'] = \"\"\n",
    "#outmodel.head()\n",
    "outmodel = outmodel.set_index('name')\n",
    "\n",
    "for gcname,gc in outmodel.iterrows():\n",
    "    if (gcname in sara_names):\n",
    "            testgrp = datagrp.get_group(gcname)\n",
    "            #add initial damage state - by default Null Damage (D0)\n",
    "            testgrp['Damage'] = 'D0'\n",
    "            outmodel.at[gcname,'expo'] = testgrp.to_json()\n",
    "    #convert polygons into multipolygons to avoid errors in file output\n",
    "    if (gc.geometry.geom_type == 'Polygon'):\n",
    "        outmodel.at[gcname,'geometry'] = MultiPolygon([gc.geometry])\n",
    "\n",
    "outmodel.columns = ['gid', 'geometry', 'expo']\n",
    "outmodel = outmodel.reset_index()\n",
    "outmodel.head()"
   ]
  },
  {
   "cell_type": "markdown",
   "metadata": {},
   "source": [
    "### Drop geocells with empty exposure "
   ]
  },
  {
   "cell_type": "code",
   "execution_count": null,
   "metadata": {},
   "outputs": [],
   "source": [
    "blacklist  = outmodel[outmodel.expo ==''].index\n",
    "outmodel1 = outmodel.drop(blacklist)"
   ]
  },
  {
   "cell_type": "markdown",
   "metadata": {},
   "source": [
    "## Save to GEOPACKAGE "
   ]
  },
  {
   "cell_type": "code",
   "execution_count": 25,
   "metadata": {},
   "outputs": [],
   "source": [
    "#ioschema = gpd.io.file.infer_schema(outmodel)\n",
    "#ioschema['geometry']='MultiPolygon'\n",
    "#ioschema\n",
    "outmodel1.to_file(\"output.gpkg\", driver=\"GPKG\")#,schema = ioschema)"
   ]
  },
  {
   "cell_type": "markdown",
   "metadata": {},
   "source": [
    "## Display the boundary of the model"
   ]
  },
  {
   "cell_type": "code",
   "execution_count": null,
   "metadata": {},
   "outputs": [],
   "source": [
    "map_osa = folium.Map(location=[-32,-71],tiles='Stamen Terrain',zoom_start=10)\n",
    "map_osa.choropleth(geo_data=outmodel1,fill_opacity=0.3)\n",
    "#map_osa.choropleth(geo_data=chile_map,fill_opacity=0.3)\n",
    "#folium.Marker([-32, -71], popup='test').add_to(map_osa)\n",
    "map_osa"
   ]
  },
  {
   "cell_type": "code",
   "execution_count": null,
   "metadata": {},
   "outputs": [],
   "source": [
    "#map_osa = folium.Map(location=[df.iloc[event_index].latitude,df.iloc[event_index].longitude])\n",
    "#map_osm.create_map(path='osm.html')\n",
    "#map_osa.save('testfolium.html')\n",
    "#map_osa"
   ]
  }
 ],
 "metadata": {
  "kernelspec": {
   "display_name": "Python 3",
   "language": "python",
   "name": "python3"
  },
  "language_info": {
   "codemirror_mode": {
    "name": "ipython",
    "version": 3
   },
   "file_extension": ".py",
   "mimetype": "text/x-python",
   "name": "python",
   "nbconvert_exporter": "python",
   "pygments_lexer": "ipython3",
   "version": "3.7.3"
  }
 },
 "nbformat": 4,
 "nbformat_minor": 2
}
