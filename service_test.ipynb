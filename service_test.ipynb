{
 "cells": [
  {
   "cell_type": "code",
   "execution_count": 1,
   "metadata": {},
   "outputs": [],
   "source": [
    "%load_ext autoreload\n",
    "%autoreload 2\n",
    "import warnings; warnings.filterwarnings(\"ignore\")"
   ]
  },
  {
   "cell_type": "code",
   "execution_count": 67,
   "metadata": {},
   "outputs": [],
   "source": [
    "#test\n",
    "#import sys\n",
    "#print(sys.version)\n",
    "#import numpy"
   ]
  },
  {
   "cell_type": "code",
   "execution_count": 13,
   "metadata": {},
   "outputs": [],
   "source": [
    "%matplotlib inline\n",
    "import os\n",
    "import geopandas as gp\n",
    "from shapely.geometry import Polygon\n",
    "import matplotlib\n",
    "import matplotlib.pyplot as plt\n",
    "import expo_nrml as nrml\n"
   ]
  },
  {
   "cell_type": "markdown",
   "metadata": {},
   "source": [
    "### define a ROI"
   ]
  },
  {
   "cell_type": "code",
   "execution_count": 77,
   "metadata": {},
   "outputs": [],
   "source": [
    "lat_point_list = [-33.2,-33.0 , -33.0, -33.2, -33.2]\n",
    "lon_point_list = [-71.8, -71.8,-71.4,-71.4,-71.8]\n",
    "\n",
    "roi_geom = Polygon(zip(lon_point_list, lat_point_list))\n",
    "crs = {'init': 'epsg:4326'}\n",
    "roi = gp.GeoDataFrame(index=[0], crs=crs, geometry=[roi_geom])       "
   ]
  },
  {
   "cell_type": "markdown",
   "metadata": {},
   "source": [
    "### Init model from file (geopackage)"
   ]
  },
  {
   "cell_type": "code",
   "execution_count": 90,
   "metadata": {},
   "outputs": [
    {
     "data": {
      "text/plain": [
       "0    {\"type\": \"FeatureCollection\", \"features\": [{\"i...\n",
       "dtype: object"
      ]
     },
     "execution_count": 90,
     "metadata": {},
     "output_type": "execute_result"
    }
   ],
   "source": [
    "rj = roi.to_json()\n",
    "#rj\n",
    "gs = gp.GeoSeries(rj)\n"
   ]
  },
  {
   "cell_type": "code",
   "execution_count": 50,
   "metadata": {},
   "outputs": [],
   "source": [
    "'''\n",
    "read exposure model from a (geopackage) file, filter and harmonise \n",
    "the columns in order to have for each geocell the following:\n",
    "index: integer unique identifier\n",
    "gc_id: string, unique identifier\n",
    "name: string, name\n",
    "geometry: polygon\n",
    "a number of columns follow, each describing a single taxonomic type\n",
    "\n",
    "returns the model as geopandas dataframe and the list of taxonomic types\n",
    "'''\n",
    "def read_model(input_file):\n",
    "    #init model\n",
    "    res = gp.read_file(input_file,encoding = 'utf-8')\n",
    "    taxonomies = res.keys()[res.dtypes=='float64']\n",
    "    cols = ['GID_3','NAME_3','geometry',*taxonomies.values]\n",
    "    out = res[cols].reset_index()\n",
    "    out.columns = ['index','gc_id','name','geometry',*taxonomies.values]\n",
    "    return [out,taxonomies]\n",
    "\n",
    "'''\n",
    "extract a part of the model by doing a spatial query on the geopandas df\n",
    "return a sub-portion of a model based on a ROI and a query mode: \n",
    "'within': returns the geometries that are completely inside the ROI\n",
    "'intersects': returns the geometries that are intersecting the ROI\n",
    "'''\n",
    "def queryModelfromRoi(mod,roi,mode='within'):\n",
    "    #modes=['within','intersects']\n",
    "    r = roi.geometry.iloc[0]\n",
    "    if (mode=='within'):\n",
    "        res=mod[mod.within(r)]\n",
    "    elif(mode=='intersects'):\n",
    "        res=mod[mod.intersects(r)]\n",
    "    else:\n",
    "        raise Exception ('getModelfromRoi: unknown mode')\n",
    "    return(res)\n",
    "\n",
    "'''\n",
    "Export geopandas dataframe as GeoJson file\n",
    "'''\n",
    "def exportGeoJson(dataframe, filename):\n",
    "    # file has to be first deleted\n",
    "    # because driver does not support overwrite ! \n",
    "    try: \n",
    "        os.remove(filename)\n",
    "    except OSError:\n",
    "        pass\n",
    "    dataframe.to_file(filename, driver='GeoJSON')\n",
    "    return (0)\n",
    "\n",
    "def exportNrml05(dataframe, filename, metadata, dicts,taxonomies):\n",
    "    xml_string = nrml.write_nrml05_expo(dataframe,metadata,dicts,taxonomies,filename)\n",
    "    return (0)\n",
    "\n",
    "#test\n",
    "#sub = getModelfromRoi(model,roi,'intersects')\n",
    "#print(sub)\n",
    "#sub.plot()"
   ]
  },
  {
   "cell_type": "markdown",
   "metadata": {},
   "source": [
    "### Main "
   ]
  },
  {
   "cell_type": "code",
   "execution_count": 57,
   "metadata": {},
   "outputs": [],
   "source": [
    "schema = 'SARA_v1.0'"
   ]
  },
  {
   "cell_type": "code",
   "execution_count": 58,
   "metadata": {
    "scrolled": true
   },
   "outputs": [],
   "source": [
    "def main(roi,schema):\n",
    "    \n",
    "    #init file path and file names according to specific schema.\n",
    "    #currently only the SARA v1.0 schema is supported\n",
    "\n",
    "    if (schema == 'SARA_v1.0'):\n",
    "        path_expo_dict =\"/Users/pittore/Documents/workspace/RIESGOS/assetmaster/model_SARA_v1.0\"\n",
    "        path_metadatefile = \"/Users/pittore/Documents/workspace/RIESGOS/assetmaster/model_SARA_v1.0\"\n",
    "        path_infile = \"/Users/pittore/Documents/workspace/RIESGOS/assetmaster/model_SARA_v1.0\"\n",
    "        path_outfile = \"/Users/pittore/Documents/workspace/RIESGOS/assetmaster/output\"\n",
    "    else:\n",
    "        raise Exception (\"schema {} not supported\".format(schema))\n",
    "\n",
    "    in_file = \"chile_sara_v1.0_data.gpkg\"\n",
    "    dict_file = \"chile_sara_v1.0_prop.csv\"\n",
    "    metadata_file = \"chile_sara_v1.0_meta.json\"\n",
    "    out_file_xml = \"query_output.nrml\"\n",
    "    out_file_geojson = 'query_output.geojson'\n",
    "\n",
    "    #read the exposure model metadata\n",
    "    metadata = nrml.read_metadata(os.path.join(path_metadatefile,metadata_file))\n",
    "\n",
    "    #get a dataframe with the basic properties of the buildings\n",
    "    dicts = nrml.load_expo_dicts(os.path.join(path_expo_dict,dict_file))\n",
    "\n",
    "    #read taxonomies from the dict file\n",
    "    btypes = dicts.btype\n",
    "    #check that the asset taxonomies match\n",
    "    if not (set(taxonomies) <= set(btypes)):\n",
    "        raise Exception (\"taxonomies do not match\")\n",
    "\n",
    "    #read model from file \n",
    "    model,taxonomies = read_model(os.path.join(path_infile,in_file))\n",
    "\n",
    "    #spatial query\n",
    "    query_res = getModelfromRoi(model,roi,'intersects')"
   ]
  },
  {
   "cell_type": "code",
   "execution_count": 48,
   "metadata": {},
   "outputs": [
    {
     "data": {
      "text/plain": [
       "0"
      ]
     },
     "execution_count": 48,
     "metadata": {},
     "output_type": "execute_result"
    }
   ],
   "source": [
    "output_geojson = os.path.join(path_outfile,out_file_geojson)\n",
    "exportGeoJson(query_res,output_geojson)"
   ]
  },
  {
   "cell_type": "code",
   "execution_count": 51,
   "metadata": {},
   "outputs": [
    {
     "data": {
      "text/plain": [
       "0"
      ]
     },
     "execution_count": 51,
     "metadata": {},
     "output_type": "execute_result"
    }
   ],
   "source": [
    "output_xml = os.path.join(path_outfile,out_file_xml)\n",
    "exportNrml05(query_res, output_xml, metadata, dicts,taxonomies)"
   ]
  },
  {
   "cell_type": "code",
   "execution_count": 10,
   "metadata": {},
   "outputs": [],
   "source": []
  },
  {
   "cell_type": "code",
   "execution_count": null,
   "metadata": {},
   "outputs": [],
   "source": []
  },
  {
   "cell_type": "code",
   "execution_count": null,
   "metadata": {},
   "outputs": [],
   "source": [
    "import folium\n",
    "m = folium.Map([-33.08,-71.6], zoom_start=8, tiles='cartodbpositron')\n",
    "folium.GeoJson(polygon).add_to(m)\n",
    "folium.GeoJson(res.boundary,\n",
    "    style_function=lambda feature: {\n",
    "        'fillColor': '#00FF00',\n",
    "        'color' : '#32CD32',\n",
    "        'weight' : 1,\n",
    "        'fillOpacity' : 0.5,\n",
    "        }).add_to(m)\n",
    "folium.LatLngPopup().add_to(m)\n",
    "m"
   ]
  },
  {
   "cell_type": "code",
   "execution_count": 178,
   "metadata": {},
   "outputs": [],
   "source": []
  }
 ],
 "metadata": {
  "kernelspec": {
   "display_name": "Python 3",
   "language": "python",
   "name": "python3"
  },
  "language_info": {
   "codemirror_mode": {
    "name": "ipython",
    "version": 3
   },
   "file_extension": ".py",
   "mimetype": "text/x-python",
   "name": "python",
   "nbconvert_exporter": "python",
   "pygments_lexer": "ipython3",
   "version": "3.7.0"
  }
 },
 "nbformat": 4,
 "nbformat_minor": 2
}
